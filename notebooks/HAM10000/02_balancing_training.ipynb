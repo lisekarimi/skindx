{
 "cells": [
  {
   "cell_type": "markdown",
   "id": "e2260e5d-4720-4a5c-a000-75623e90e94c",
   "metadata": {},
   "source": [
    "# 🔬 SKINDX: Class Balancing & Model Training\n",
    "\n",
    "**Advanced Techniques for Imbalanced Medical Data**\n",
    "\n",
    "---\n",
    "\n",
    "🎯 **Notebook Overview**\n",
    "\n",
    "Building on our data exploration, this notebook tackles the critical challenge of **extreme class imbalance** in the HAM10000 dataset and develops high-performance classification models.\n",
    "\n",
    "**Key Challenge**: Nevus (nv) has 6,705 samples while Dermatofibroma (df) has only 115 samples - a 58:1 ratio!\n",
    "\n",
    "---\n",
    "\n",
    "📋 **What We'll Accomplish**\n",
    "\n",
    "We will address class imbalance using **Smart Augmentation** with class-specific rates (1x to 50x multipliers) and train a **ResNet-based CNN** with **Data Augmentation** strategies.  \n",
    "\n",
    "We have tried several experiments tracked with **MLflow**, and the best result achieved was **87% accuracy**, with the best precision/recall across all 7 classes.\n",
    "\n",
    "The best trained model is exported locally, logged with MLflow, and published on the Hugging Face Hub for easy reuse and reproducibility.\n",
    "\n",
    "For full details, please refer to the complete notebook on GitHub:  \n",
    "🔗 [04_skin_ham10000_pt.ipynb](https://github.com/lisekarimi/pixdl/blob/main/04_skin_ham10000_pt.ipynb)  \n",
    "\n",
    "\n",
    "---\n",
    "\n",
    "🛠️ **Technical Stack**  \n",
    "\n",
    "- **Tracking**: MLflow for experiment management and artifact storage  \n",
    "- **Augmentation**: Advanced torchvision transforms + class-specific augmentation for medical images  \n",
    "- **Models**: PyTorch implementation using **ResNet** with GPU acceleration  \n",
    "- **Evaluation**: Comprehensive metrics including per-class performance  \n",
    "\n",
    "---\n",
    "\n",
    "⚡ **GPU Acceleration Requirement**\n",
    "\n",
    "This project is tuned for **NVIDIA RTX 5080**.  \n",
    "If you use a different GPU, adjust parameters such as `batch_size`, `num_workers`, and resource settings in `docker-compose.yml`:\n",
    "\n",
    "```yaml\n",
    "ipc: \"host\"\n",
    "ulimits:\n",
    "  memlock: -1\n",
    "  stack: 67108864\n",
    "```"
   ]
  },
  {
   "cell_type": "markdown",
   "id": "880be8df-341c-490d-873b-4fafb4b7f262",
   "metadata": {},
   "source": [
    "## 📚 Import Libraries "
   ]
  },
  {
   "cell_type": "code",
   "execution_count": 1,
   "id": "bf0a15ca-7431-478e-a619-de49db2fd1d7",
   "metadata": {},
   "outputs": [],
   "source": [
    "# ============================================================================\n",
    "# STANDARD LIBRARY IMPORTS\n",
    "# ============================================================================\n",
    "import os\n",
    "import sys\n",
    "import time\n",
    "import tempfile\n",
    "import subprocess\n",
    "import random\n",
    "import importlib\n",
    "from glob import glob\n",
    "\n",
    "# ============================================================================\n",
    "# THIRD-PARTY DATA & COMPUTATION LIBRARIES\n",
    "# ============================================================================\n",
    "import numpy as np\n",
    "import pandas as pd\n",
    "\n",
    "# ============================================================================\n",
    "# VISUALIZATION LIBRARIES\n",
    "# ============================================================================\n",
    "import matplotlib.pyplot as plt\n",
    "import seaborn as sns\n",
    "\n",
    "# ============================================================================\n",
    "# MACHINE LEARNING & DATA SCIENCE LIBRARIES\n",
    "# ============================================================================\n",
    "from sklearn.utils import resample\n",
    "from sklearn.model_selection import train_test_split\n",
    "from sklearn.metrics import (\n",
    "    accuracy_score,\n",
    "    confusion_matrix,\n",
    "    classification_report\n",
    ")\n",
    "\n",
    "# ============================================================================\n",
    "# DEEP LEARNING - PyTorch Core\n",
    "# ============================================================================\n",
    "import torch\n",
    "import torch.nn as nn\n",
    "import torch.optim as optim\n",
    "from torch.utils.data import Dataset, DataLoader, TensorDataset\n",
    "from torch.optim.lr_scheduler import ReduceLROnPlateau\n",
    "\n",
    "# ============================================================================\n",
    "# DEEP LEARNING - Computer Vision\n",
    "# ============================================================================\n",
    "import torchvision.models as models\n",
    "from torchvision import transforms\n",
    "from PIL import Image\n",
    "\n",
    "# ============================================================================\n",
    "# PROGRESS TRACKING & UTILITIES\n",
    "# ============================================================================\n",
    "from tqdm import tqdm\n",
    "\n",
    "# ============================================================================\n",
    "# EXPERIMENT TRACKING & API\n",
    "# ============================================================================\n",
    "import mlflow\n",
    "import requests\n",
    "\n",
    "# ============================================================================\n",
    "# PROJECT MODULES\n",
    "# ============================================================================\n",
    "sys.path.append(os.path.dirname(os.getcwd()))\n",
    "from helpers.cnn_trainer import train_cnn_model\n",
    "\n",
    "# ============================================================================\n",
    "# CONFIG\n",
    "# ============================================================================\n",
    "input_path = \"../data/HAM10000/\"\n",
    "label_names = ['akiec', 'bcc', 'bkl', 'df', 'mel', 'nv', 'vasc']\n",
    "device = torch.device('cuda' if torch.cuda.is_available() else 'cpu')\n",
    "USER_NAME = \"lisekarimi\"\n",
    "EXPERIMENT_NAME = \"skindx ham10000\""
   ]
  },
  {
   "cell_type": "code",
   "execution_count": 2,
   "id": "cbfc8e75-4a63-4f90-9091-e19ae718695b",
   "metadata": {},
   "outputs": [
    {
     "name": "stdout",
     "output_type": "stream",
     "text": [
      "CUDA available: True\n",
      "Device: NVIDIA GeForce RTX 5080\n"
     ]
    }
   ],
   "source": [
    "print(f\"CUDA available: {torch.cuda.is_available()}\")\n",
    "print(f\"Device: {torch.cuda.get_device_name(0)}\")"
   ]
  },
  {
   "cell_type": "markdown",
   "id": "6bf719c5-cbb7-4638-a971-c50c8a22c2a5",
   "metadata": {},
   "source": [
    "## ⚙️ Setup MLflow locally"
   ]
  },
  {
   "cell_type": "code",
   "execution_count": 3,
   "id": "ea6ef3b2-8ca8-42dd-9877-f3c828486301",
   "metadata": {},
   "outputs": [
    {
     "name": "stdout",
     "output_type": "stream",
     "text": [
      "Starting MLflow server...\n",
      "Created new experiment with ID: 588572262053754225\n",
      "MLflow setup complete!\n"
     ]
    }
   ],
   "source": [
    "MLFLOW_URI = \"http://localhost:5000\"\n",
    "\n",
    "def is_mlflow_running():\n",
    "    try:\n",
    "        return requests.get(f\"{MLFLOW_URI}/health\", timeout=2).ok\n",
    "    except Exception:\n",
    "        return False\n",
    "\n",
    "if not is_mlflow_running():\n",
    "    print(\"Starting MLflow server...\")\n",
    "    env = os.environ.copy()\n",
    "    env[\"GUNICORN_CMD_ARGS\"] = \"--log-level warning --access-logfile /dev/null --error-logfile -\"\n",
    "    subprocess.Popen(\n",
    "        [\"mlflow\",\"server\",\"--host\",\"0.0.0.0\",\"--port\",\"5000\",\n",
    "         \"--backend-store-uri\",\"file:///workspace/notebooks/mlflow_storage\",\n",
    "         \"--default-artifact-root\",\"file:///workspace/notebooks/mlflow_storage/mlartifacts\"],\n",
    "        env=env, stdout=subprocess.DEVNULL, stderr=subprocess.DEVNULL\n",
    "    )\n",
    "    # wait until healthy (max ~10s)\n",
    "    for _ in range(20):\n",
    "        if is_mlflow_running():\n",
    "            break\n",
    "        time.sleep(0.5)\n",
    "else:\n",
    "    print(\"MLflow server already running!\")\n",
    "\n",
    "mlflow.set_tracking_uri(MLFLOW_URI)\n",
    "\n",
    "exp = mlflow.get_experiment_by_name(EXPERIMENT_NAME)\n",
    "if exp is None:\n",
    "    experiment_id = mlflow.create_experiment(EXPERIMENT_NAME)\n",
    "    print(f\"Created new experiment with ID: {experiment_id}\")\n",
    "else:\n",
    "    experiment_id = exp.experiment_id\n",
    "    print(f\"Using existing experiment with ID: {experiment_id}\")\n",
    "\n",
    "mlflow.set_experiment(EXPERIMENT_NAME)\n",
    "print(\"MLflow setup complete!\")\n"
   ]
  },
  {
   "cell_type": "markdown",
   "id": "d8b480b3-5767-4e01-ab55-c1462c378639",
   "metadata": {},
   "source": [
    "## 📥 Load Metadata"
   ]
  },
  {
   "cell_type": "code",
   "execution_count": 4,
   "id": "5bc2b3e7-5c1e-4654-8417-361940708053",
   "metadata": {},
   "outputs": [
    {
     "data": {
      "text/html": [
       "<div>\n",
       "<style scoped>\n",
       "    .dataframe tbody tr th:only-of-type {\n",
       "        vertical-align: middle;\n",
       "    }\n",
       "\n",
       "    .dataframe tbody tr th {\n",
       "        vertical-align: top;\n",
       "    }\n",
       "\n",
       "    .dataframe thead th {\n",
       "        text-align: right;\n",
       "    }\n",
       "</style>\n",
       "<table border=\"1\" class=\"dataframe\">\n",
       "  <thead>\n",
       "    <tr style=\"text-align: right;\">\n",
       "      <th></th>\n",
       "      <th>lesion_id</th>\n",
       "      <th>image_id</th>\n",
       "      <th>dx</th>\n",
       "      <th>dx_type</th>\n",
       "      <th>age</th>\n",
       "      <th>sex</th>\n",
       "      <th>localization</th>\n",
       "    </tr>\n",
       "  </thead>\n",
       "  <tbody>\n",
       "    <tr>\n",
       "      <th>0</th>\n",
       "      <td>HAM_0000118</td>\n",
       "      <td>ISIC_0027419</td>\n",
       "      <td>bkl</td>\n",
       "      <td>histo</td>\n",
       "      <td>80.0</td>\n",
       "      <td>male</td>\n",
       "      <td>scalp</td>\n",
       "    </tr>\n",
       "    <tr>\n",
       "      <th>1</th>\n",
       "      <td>HAM_0000118</td>\n",
       "      <td>ISIC_0025030</td>\n",
       "      <td>bkl</td>\n",
       "      <td>histo</td>\n",
       "      <td>80.0</td>\n",
       "      <td>male</td>\n",
       "      <td>scalp</td>\n",
       "    </tr>\n",
       "    <tr>\n",
       "      <th>2</th>\n",
       "      <td>HAM_0002730</td>\n",
       "      <td>ISIC_0026769</td>\n",
       "      <td>bkl</td>\n",
       "      <td>histo</td>\n",
       "      <td>80.0</td>\n",
       "      <td>male</td>\n",
       "      <td>scalp</td>\n",
       "    </tr>\n",
       "    <tr>\n",
       "      <th>3</th>\n",
       "      <td>HAM_0002730</td>\n",
       "      <td>ISIC_0025661</td>\n",
       "      <td>bkl</td>\n",
       "      <td>histo</td>\n",
       "      <td>80.0</td>\n",
       "      <td>male</td>\n",
       "      <td>scalp</td>\n",
       "    </tr>\n",
       "    <tr>\n",
       "      <th>4</th>\n",
       "      <td>HAM_0001466</td>\n",
       "      <td>ISIC_0031633</td>\n",
       "      <td>bkl</td>\n",
       "      <td>histo</td>\n",
       "      <td>75.0</td>\n",
       "      <td>male</td>\n",
       "      <td>ear</td>\n",
       "    </tr>\n",
       "  </tbody>\n",
       "</table>\n",
       "</div>"
      ],
      "text/plain": [
       "     lesion_id      image_id   dx dx_type   age   sex localization\n",
       "0  HAM_0000118  ISIC_0027419  bkl   histo  80.0  male        scalp\n",
       "1  HAM_0000118  ISIC_0025030  bkl   histo  80.0  male        scalp\n",
       "2  HAM_0002730  ISIC_0026769  bkl   histo  80.0  male        scalp\n",
       "3  HAM_0002730  ISIC_0025661  bkl   histo  80.0  male        scalp\n",
       "4  HAM_0001466  ISIC_0031633  bkl   histo  75.0  male          ear"
      ]
     },
     "metadata": {},
     "output_type": "display_data"
    }
   ],
   "source": [
    "metadata = pd.read_csv(os.path.join(input_path, \"HAM10000_metadata.csv\"))\n",
    "display(metadata.head())"
   ]
  },
  {
   "cell_type": "code",
   "execution_count": 5,
   "id": "0f610e12-5dca-4861-b18a-4f653f0b07b7",
   "metadata": {},
   "outputs": [
    {
     "name": "stdout",
     "output_type": "stream",
     "text": [
      "Found 10015 images\n"
     ]
    },
    {
     "data": {
      "text/html": [
       "<div>\n",
       "<style scoped>\n",
       "    .dataframe tbody tr th:only-of-type {\n",
       "        vertical-align: middle;\n",
       "    }\n",
       "\n",
       "    .dataframe tbody tr th {\n",
       "        vertical-align: top;\n",
       "    }\n",
       "\n",
       "    .dataframe thead th {\n",
       "        text-align: right;\n",
       "    }\n",
       "</style>\n",
       "<table border=\"1\" class=\"dataframe\">\n",
       "  <thead>\n",
       "    <tr style=\"text-align: right;\">\n",
       "      <th></th>\n",
       "      <th>lesion_id</th>\n",
       "      <th>image_id</th>\n",
       "      <th>dx</th>\n",
       "      <th>dx_type</th>\n",
       "      <th>age</th>\n",
       "      <th>sex</th>\n",
       "      <th>localization</th>\n",
       "      <th>label</th>\n",
       "      <th>path</th>\n",
       "    </tr>\n",
       "  </thead>\n",
       "  <tbody>\n",
       "    <tr>\n",
       "      <th>0</th>\n",
       "      <td>HAM_0000118</td>\n",
       "      <td>ISIC_0027419</td>\n",
       "      <td>bkl</td>\n",
       "      <td>histo</td>\n",
       "      <td>80.0</td>\n",
       "      <td>male</td>\n",
       "      <td>scalp</td>\n",
       "      <td>2</td>\n",
       "      <td>../data/HAM10000/HAM10000_images_part_1/ISIC_0...</td>\n",
       "    </tr>\n",
       "    <tr>\n",
       "      <th>1</th>\n",
       "      <td>HAM_0000118</td>\n",
       "      <td>ISIC_0025030</td>\n",
       "      <td>bkl</td>\n",
       "      <td>histo</td>\n",
       "      <td>80.0</td>\n",
       "      <td>male</td>\n",
       "      <td>scalp</td>\n",
       "      <td>2</td>\n",
       "      <td>../data/HAM10000/HAM10000_images_part_1/ISIC_0...</td>\n",
       "    </tr>\n",
       "    <tr>\n",
       "      <th>2</th>\n",
       "      <td>HAM_0002730</td>\n",
       "      <td>ISIC_0026769</td>\n",
       "      <td>bkl</td>\n",
       "      <td>histo</td>\n",
       "      <td>80.0</td>\n",
       "      <td>male</td>\n",
       "      <td>scalp</td>\n",
       "      <td>2</td>\n",
       "      <td>../data/HAM10000/HAM10000_images_part_1/ISIC_0...</td>\n",
       "    </tr>\n",
       "    <tr>\n",
       "      <th>3</th>\n",
       "      <td>HAM_0002730</td>\n",
       "      <td>ISIC_0025661</td>\n",
       "      <td>bkl</td>\n",
       "      <td>histo</td>\n",
       "      <td>80.0</td>\n",
       "      <td>male</td>\n",
       "      <td>scalp</td>\n",
       "      <td>2</td>\n",
       "      <td>../data/HAM10000/HAM10000_images_part_1/ISIC_0...</td>\n",
       "    </tr>\n",
       "    <tr>\n",
       "      <th>4</th>\n",
       "      <td>HAM_0001466</td>\n",
       "      <td>ISIC_0031633</td>\n",
       "      <td>bkl</td>\n",
       "      <td>histo</td>\n",
       "      <td>75.0</td>\n",
       "      <td>male</td>\n",
       "      <td>ear</td>\n",
       "      <td>2</td>\n",
       "      <td>../data/HAM10000/HAM10000_images_part_2/ISIC_0...</td>\n",
       "    </tr>\n",
       "  </tbody>\n",
       "</table>\n",
       "</div>"
      ],
      "text/plain": [
       "     lesion_id      image_id   dx dx_type   age   sex localization  label  \\\n",
       "0  HAM_0000118  ISIC_0027419  bkl   histo  80.0  male        scalp      2   \n",
       "1  HAM_0000118  ISIC_0025030  bkl   histo  80.0  male        scalp      2   \n",
       "2  HAM_0002730  ISIC_0026769  bkl   histo  80.0  male        scalp      2   \n",
       "3  HAM_0002730  ISIC_0025661  bkl   histo  80.0  male        scalp      2   \n",
       "4  HAM_0001466  ISIC_0031633  bkl   histo  75.0  male          ear      2   \n",
       "\n",
       "                                                path  \n",
       "0  ../data/HAM10000/HAM10000_images_part_1/ISIC_0...  \n",
       "1  ../data/HAM10000/HAM10000_images_part_1/ISIC_0...  \n",
       "2  ../data/HAM10000/HAM10000_images_part_1/ISIC_0...  \n",
       "3  ../data/HAM10000/HAM10000_images_part_1/ISIC_0...  \n",
       "4  ../data/HAM10000/HAM10000_images_part_2/ISIC_0...  "
      ]
     },
     "execution_count": 5,
     "metadata": {},
     "output_type": "execute_result"
    }
   ],
   "source": [
    "# Create image path mapping\n",
    "image_path = {}\n",
    "for part in ['HAM10000_images_part_1', 'HAM10000_images_part_2']:\n",
    "    folder_path = os.path.join(input_path, part)\n",
    "    part_images = {os.path.splitext(os.path.basename(x))[0]: x\n",
    "                   for x in glob(os.path.join(folder_path, '*.jpg'))}\n",
    "    image_path.update(part_images)\n",
    "\n",
    "print(f\"Found {len(image_path)} images\")\n",
    "\n",
    "# Add labels and paths to metadata\n",
    "metadata['label'] = metadata['dx'].map(lambda x: label_names.index(x))\n",
    "metadata['path'] = metadata['image_id'].map(image_path.get)\n",
    "\n",
    "metadata.head()"
   ]
  },
  {
   "cell_type": "markdown",
   "id": "a8bc74b7-5f8b-418f-a8a3-dddea94d4501",
   "metadata": {},
   "source": [
    "## ✂️ Split Data (SPLIT FIRST - No Data Leakage!)"
   ]
  },
  {
   "cell_type": "code",
   "execution_count": 6,
   "id": "16674db9-d793-4150-a2c0-05c9d803c63b",
   "metadata": {},
   "outputs": [
    {
     "name": "stdout",
     "output_type": "stream",
     "text": [
      "After splitting:\n",
      "Train: 6009 samples\n",
      "Val: 2003 samples\n",
      "Test: 2003 samples\n"
     ]
    }
   ],
   "source": [
    "# SPLIT FIRST - by unique images to avoid any overlap\n",
    "train_df, test_df = train_test_split(\n",
    "    metadata,\n",
    "    test_size=0.2,\n",
    "    random_state=42,\n",
    "    stratify=metadata['label']\n",
    ")\n",
    "train_df, val_df = train_test_split(\n",
    "    train_df,\n",
    "    test_size=0.25,\n",
    "    random_state=42,\n",
    "    stratify=train_df['label']\n",
    ")\n",
    "\n",
    "print(f\"After splitting:\")\n",
    "print(f\"Train: {len(train_df)} samples\")\n",
    "print(f\"Val: {len(val_df)} samples\")\n",
    "print(f\"Test: {len(test_df)} samples\")"
   ]
  },
  {
   "cell_type": "markdown",
   "id": "90a4f8d9-87f7-4d9e-811c-aedb8bdab388",
   "metadata": {},
   "source": [
    "## ⚖️ Balance Training Data Only\n",
    "Were are going to use class-specific multiplication rates:\n",
    "\n",
    "- Small classes get big multipliers: df × 50, akiec × 15, vasc × 40\n",
    "- Large classes get small multipliers: nv × 1 (unchanged)\n",
    "- Medium classes get medium multipliers: bcc × 10, mel × 5"
   ]
  },
  {
   "cell_type": "code",
   "execution_count": 7,
   "id": "5e94052f-0a0a-4aaf-a404-2ea05c803f9a",
   "metadata": {},
   "outputs": [
    {
     "name": "stdout",
     "output_type": "stream",
     "text": [
      "\n",
      "✅ Balanced training set:\n",
      "label\n",
      "0    2955\n",
      "1    3080\n",
      "2    3295\n",
      "3    3450\n",
      "4    3340\n",
      "5    4023\n",
      "6    3400\n",
      "Name: count, dtype: int64\n",
      "Total balanced training samples: 23543\n",
      "✓ No image overlap between sets - clean split!\n"
     ]
    }
   ],
   "source": [
    "# Balance multipliers for each class\n",
    "data_aug_rate = [15, 10, 5, 50, 5, 1, 40]\n",
    "\n",
    "def balance_training_data(train_df, data_aug_rate):\n",
    "    \"\"\"Balance only the training data by duplicating minority classes\"\"\"\n",
    "    balanced_dfs = []\n",
    "\n",
    "    for class_idx, rate in enumerate(data_aug_rate):\n",
    "        class_df = train_df[train_df['label'] == class_idx]\n",
    "        if len(class_df) > 0 and rate > 0:\n",
    "            # Multiply the class by the rate\n",
    "            augmented_df = pd.concat([class_df] * rate, ignore_index=True)\n",
    "            balanced_dfs.append(augmented_df)\n",
    "\n",
    "    return pd.concat(balanced_dfs, ignore_index=True)\n",
    "\n",
    "# Balance only training data\n",
    "train_df_balanced = balance_training_data(train_df, data_aug_rate)\n",
    "\n",
    "print(f\"\\n✅ Balanced training set:\")\n",
    "print(train_df_balanced['label'].value_counts().sort_index())\n",
    "print(f\"Total balanced training samples: {len(train_df_balanced)}\")\n",
    "\n",
    "# Verify no image overlap between sets\n",
    "def check_no_image_overlap(train_df, val_df, test_df):\n",
    "    train_imgs = set(train_df['image_id'].unique())\n",
    "    val_imgs = set(val_df['image_id'].unique())\n",
    "    test_imgs = set(test_df['image_id'].unique())\n",
    "\n",
    "    overlaps = [\n",
    "        len(train_imgs.intersection(val_imgs)),\n",
    "        len(train_imgs.intersection(test_imgs)),\n",
    "        len(val_imgs.intersection(test_imgs))\n",
    "    ]\n",
    "\n",
    "    if sum(overlaps) == 0:\n",
    "        print(\"✓ No image overlap between sets - clean split!\")\n",
    "    else:\n",
    "        print(f\"⚠ Warning: Image overlaps detected: {overlaps}\")\n",
    "\n",
    "check_no_image_overlap(train_df_balanced, val_df, test_df)"
   ]
  },
  {
   "cell_type": "markdown",
   "id": "c0e444a0-d358-4440-b64e-fa34c71d0f01",
   "metadata": {},
   "source": [
    "## 🖼️ Create Dataset and DataLoaders"
   ]
  },
  {
   "cell_type": "code",
   "execution_count": 8,
   "id": "2495c3c5-a544-4785-ac5d-acf85115a976",
   "metadata": {},
   "outputs": [],
   "source": [
    "# Custom Dataset class\n",
    "class SkinDataset(Dataset):\n",
    "    def __init__(self, dataframe, transform=None):\n",
    "        self.df = dataframe.reset_index(drop=True)\n",
    "        self.image_paths = dataframe['path'].values\n",
    "        self.labels = dataframe['label'].values\n",
    "        self.transform = transform\n",
    "\n",
    "    def __len__(self):\n",
    "        return len(self.df)\n",
    "\n",
    "    def __getitem__(self, idx):\n",
    "        image_path = self.image_paths[idx]\n",
    "        label = self.labels[idx]\n",
    "        image = Image.open(image_path)\n",
    "\n",
    "        if self.transform:\n",
    "            image = self.transform(image)\n",
    "\n",
    "        return image, label\n",
    "\n",
    "# Data transforms\n",
    "input_size = 224\n",
    "norm_mean = [0.485, 0.456, 0.406]\n",
    "norm_std = [0.229, 0.224, 0.225]\n",
    "\n",
    "train_transform = transforms.Compose([\n",
    "    transforms.Resize((input_size, input_size)),\n",
    "    transforms.RandomHorizontalFlip(),\n",
    "    transforms.RandomVerticalFlip(),\n",
    "    transforms.RandomRotation(20),\n",
    "    transforms.ColorJitter(brightness=0.1, contrast=0.1, hue=0.1),\n",
    "    transforms.ToTensor(),\n",
    "    transforms.Normalize(norm_mean, norm_std)\n",
    "])\n",
    "\n",
    "val_transform = transforms.Compose([\n",
    "    transforms.Resize((input_size, input_size)),\n",
    "    transforms.ToTensor(),\n",
    "    transforms.Normalize(norm_mean, norm_std)\n",
    "])\n",
    "\n",
    "# Create datasets\n",
    "train_dataset = SkinDataset(train_df_balanced, transform=train_transform)\n",
    "val_dataset = SkinDataset(val_df, transform=val_transform)\n",
    "test_dataset = SkinDataset(test_df, transform=val_transform)\n",
    "\n",
    "# Create DataLoaders\n",
    "torch.backends.cudnn.benchmark = True  # Optimize for fixed input sizes\n",
    "\n",
    "train_loader = DataLoader(train_dataset, batch_size=128, shuffle=True,\n",
    "                         num_workers=4, pin_memory=True, persistent_workers=True)\n",
    "val_loader = DataLoader(val_dataset, batch_size=256, shuffle=False,\n",
    "                       num_workers=4, pin_memory=True, persistent_workers=True)\n",
    "test_loader = DataLoader(test_dataset, batch_size=256, shuffle=False,\n",
    "                        num_workers=4, pin_memory=True, persistent_workers=True)"
   ]
  },
  {
   "cell_type": "markdown",
   "id": "21c45900-d911-4bbd-a467-db4772a456a9",
   "metadata": {},
   "source": [
    "## 🏋️‍♂️ Train ResNet Model"
   ]
  },
  {
   "cell_type": "code",
   "execution_count": 9,
   "id": "20cd07fa-3eea-410d-8958-36aa175397c3",
   "metadata": {},
   "outputs": [
    {
     "name": "stdout",
     "output_type": "stream",
     "text": [
      "✅ Model created and moved to cuda\n"
     ]
    }
   ],
   "source": [
    "# Create model\n",
    "model = models.resnet50(weights=models.ResNet50_Weights.DEFAULT)\n",
    "model.fc = nn.Sequential(\n",
    "    nn.Dropout(0.1),\n",
    "    nn.Linear(model.fc.in_features, 7)\n",
    ")\n",
    "model = model.to(device)\n",
    "\n",
    "# Setup training\n",
    "criterion = nn.CrossEntropyLoss().to(device)\n",
    "optimizer = optim.Adam(model.parameters(), lr=0.001, weight_decay=1e-5)\n",
    "scheduler = ReduceLROnPlateau(optimizer, mode='min', factor=0.5, patience=5)\n",
    "\n",
    "print(f\"✅ Model created and moved to {device}\")"
   ]
  },
  {
   "cell_type": "code",
   "execution_count": 10,
   "id": "f3733407-aa8b-4572-bc02-10d97e997a04",
   "metadata": {},
   "outputs": [
    {
     "name": "stderr",
     "output_type": "stream",
     "text": [
      "Epoch 1/150: 100%|██████████| 184/184 [01:08<00:00,  2.69it/s, loss=0.6365, accuracy=76.29%]\n"
     ]
    },
    {
     "name": "stdout",
     "output_type": "stream",
     "text": [
      "Epoch 1: loss: 0.6365 - accuracy: 76.29% - val_loss: 0.7471 - val_accuracy: 69.95%\n",
      "Validation loss improved. Best model updated.\n"
     ]
    },
    {
     "name": "stderr",
     "output_type": "stream",
     "text": [
      "Epoch 2/150: 100%|██████████| 184/184 [00:54<00:00,  3.41it/s, loss=0.3399, accuracy=87.04%]\n"
     ]
    },
    {
     "name": "stdout",
     "output_type": "stream",
     "text": [
      "Epoch 2: loss: 0.3399 - accuracy: 87.04% - val_loss: 0.9234 - val_accuracy: 69.05%\n",
      "No improvement. Patience: 1/20\n"
     ]
    },
    {
     "name": "stderr",
     "output_type": "stream",
     "text": [
      "Epoch 3/150: 100%|██████████| 184/184 [00:53<00:00,  3.42it/s, loss=0.2486, accuracy=90.71%]\n"
     ]
    },
    {
     "name": "stdout",
     "output_type": "stream",
     "text": [
      "Epoch 3: loss: 0.2486 - accuracy: 90.71% - val_loss: 0.9308 - val_accuracy: 70.64%\n",
      "No improvement. Patience: 2/20\n"
     ]
    },
    {
     "name": "stderr",
     "output_type": "stream",
     "text": [
      "Epoch 4/150: 100%|██████████| 184/184 [00:54<00:00,  3.40it/s, loss=0.2129, accuracy=92.19%]\n"
     ]
    },
    {
     "name": "stdout",
     "output_type": "stream",
     "text": [
      "Epoch 4: loss: 0.2129 - accuracy: 92.19% - val_loss: 0.7037 - val_accuracy: 76.44%\n",
      "Validation loss improved. Best model updated.\n"
     ]
    },
    {
     "name": "stderr",
     "output_type": "stream",
     "text": [
      "Epoch 5/150: 100%|██████████| 184/184 [00:54<00:00,  3.40it/s, loss=0.1759, accuracy=93.39%]\n"
     ]
    },
    {
     "name": "stdout",
     "output_type": "stream",
     "text": [
      "Epoch 5: loss: 0.1759 - accuracy: 93.39% - val_loss: 0.9065 - val_accuracy: 79.88%\n",
      "No improvement. Patience: 1/20\n"
     ]
    },
    {
     "name": "stderr",
     "output_type": "stream",
     "text": [
      "Epoch 6/150: 100%|██████████| 184/184 [00:53<00:00,  3.43it/s, loss=0.1444, accuracy=94.61%]\n"
     ]
    },
    {
     "name": "stdout",
     "output_type": "stream",
     "text": [
      "Epoch 6: loss: 0.1444 - accuracy: 94.61% - val_loss: 0.6922 - val_accuracy: 77.48%\n",
      "Validation loss improved. Best model updated.\n"
     ]
    },
    {
     "name": "stderr",
     "output_type": "stream",
     "text": [
      "Epoch 7/150: 100%|██████████| 184/184 [00:53<00:00,  3.45it/s, loss=0.1313, accuracy=95.22%]\n"
     ]
    },
    {
     "name": "stdout",
     "output_type": "stream",
     "text": [
      "Epoch 7: loss: 0.1313 - accuracy: 95.22% - val_loss: 0.6135 - val_accuracy: 82.13%\n",
      "Validation loss improved. Best model updated.\n"
     ]
    },
    {
     "name": "stderr",
     "output_type": "stream",
     "text": [
      "Epoch 8/150: 100%|██████████| 184/184 [00:53<00:00,  3.44it/s, loss=0.1224, accuracy=95.63%]\n"
     ]
    },
    {
     "name": "stdout",
     "output_type": "stream",
     "text": [
      "Epoch 8: loss: 0.1224 - accuracy: 95.63% - val_loss: 0.6160 - val_accuracy: 83.33%\n",
      "No improvement. Patience: 1/20\n"
     ]
    },
    {
     "name": "stderr",
     "output_type": "stream",
     "text": [
      "Epoch 9/150: 100%|██████████| 184/184 [00:53<00:00,  3.44it/s, loss=0.1001, accuracy=96.55%]\n"
     ]
    },
    {
     "name": "stdout",
     "output_type": "stream",
     "text": [
      "Epoch 9: loss: 0.1001 - accuracy: 96.55% - val_loss: 0.5875 - val_accuracy: 83.37%\n",
      "Validation loss improved. Best model updated.\n"
     ]
    },
    {
     "name": "stderr",
     "output_type": "stream",
     "text": [
      "Epoch 10/150: 100%|██████████| 184/184 [00:53<00:00,  3.43it/s, loss=0.1061, accuracy=96.33%]\n"
     ]
    },
    {
     "name": "stdout",
     "output_type": "stream",
     "text": [
      "Epoch 10: loss: 0.1061 - accuracy: 96.33% - val_loss: 0.5561 - val_accuracy: 84.82%\n",
      "Validation loss improved. Best model updated.\n"
     ]
    },
    {
     "name": "stderr",
     "output_type": "stream",
     "text": [
      "Epoch 11/150: 100%|██████████| 184/184 [00:54<00:00,  3.38it/s, loss=0.0930, accuracy=96.61%]\n"
     ]
    },
    {
     "name": "stdout",
     "output_type": "stream",
     "text": [
      "Epoch 11: loss: 0.0930 - accuracy: 96.61% - val_loss: 0.8154 - val_accuracy: 76.14%\n",
      "No improvement. Patience: 1/20\n"
     ]
    },
    {
     "name": "stderr",
     "output_type": "stream",
     "text": [
      "Epoch 12/150: 100%|██████████| 184/184 [00:54<00:00,  3.40it/s, loss=0.0825, accuracy=97.06%]\n"
     ]
    },
    {
     "name": "stdout",
     "output_type": "stream",
     "text": [
      "Epoch 12: loss: 0.0825 - accuracy: 97.06% - val_loss: 0.5943 - val_accuracy: 85.07%\n",
      "No improvement. Patience: 2/20\n"
     ]
    },
    {
     "name": "stderr",
     "output_type": "stream",
     "text": [
      "Epoch 13/150: 100%|██████████| 184/184 [00:54<00:00,  3.40it/s, loss=0.0791, accuracy=97.23%]\n"
     ]
    },
    {
     "name": "stdout",
     "output_type": "stream",
     "text": [
      "Epoch 13: loss: 0.0791 - accuracy: 97.23% - val_loss: 0.7419 - val_accuracy: 83.67%\n",
      "No improvement. Patience: 3/20\n"
     ]
    },
    {
     "name": "stderr",
     "output_type": "stream",
     "text": [
      "Epoch 14/150: 100%|██████████| 184/184 [00:54<00:00,  3.39it/s, loss=0.0778, accuracy=97.34%]\n"
     ]
    },
    {
     "name": "stdout",
     "output_type": "stream",
     "text": [
      "Epoch 14: loss: 0.0778 - accuracy: 97.34% - val_loss: 0.5931 - val_accuracy: 84.87%\n",
      "No improvement. Patience: 4/20\n"
     ]
    },
    {
     "name": "stderr",
     "output_type": "stream",
     "text": [
      "Epoch 15/150: 100%|██████████| 184/184 [00:54<00:00,  3.39it/s, loss=0.0762, accuracy=97.25%]\n"
     ]
    },
    {
     "name": "stdout",
     "output_type": "stream",
     "text": [
      "Epoch 15: loss: 0.0762 - accuracy: 97.25% - val_loss: 0.7397 - val_accuracy: 82.43%\n",
      "No improvement. Patience: 5/20\n"
     ]
    },
    {
     "name": "stderr",
     "output_type": "stream",
     "text": [
      "Epoch 16/150: 100%|██████████| 184/184 [00:53<00:00,  3.42it/s, loss=0.0583, accuracy=98.00%]\n"
     ]
    },
    {
     "name": "stdout",
     "output_type": "stream",
     "text": [
      "Epoch 16: loss: 0.0583 - accuracy: 98.00% - val_loss: 0.6637 - val_accuracy: 83.77%\n",
      "No improvement. Patience: 6/20\n"
     ]
    },
    {
     "name": "stderr",
     "output_type": "stream",
     "text": [
      "Epoch 17/150: 100%|██████████| 184/184 [00:53<00:00,  3.44it/s, loss=0.0241, accuracy=99.27%]\n"
     ]
    },
    {
     "name": "stdout",
     "output_type": "stream",
     "text": [
      "Epoch 17: loss: 0.0241 - accuracy: 99.27% - val_loss: 0.6436 - val_accuracy: 86.77%\n",
      "No improvement. Patience: 7/20\n"
     ]
    },
    {
     "name": "stderr",
     "output_type": "stream",
     "text": [
      "Epoch 18/150: 100%|██████████| 184/184 [00:52<00:00,  3.48it/s, loss=0.0125, accuracy=99.59%]\n"
     ]
    },
    {
     "name": "stdout",
     "output_type": "stream",
     "text": [
      "Epoch 18: loss: 0.0125 - accuracy: 99.59% - val_loss: 0.7384 - val_accuracy: 86.82%\n",
      "No improvement. Patience: 8/20\n"
     ]
    },
    {
     "name": "stderr",
     "output_type": "stream",
     "text": [
      "Epoch 19/150: 100%|██████████| 184/184 [00:52<00:00,  3.49it/s, loss=0.0133, accuracy=99.57%]\n"
     ]
    },
    {
     "name": "stdout",
     "output_type": "stream",
     "text": [
      "Epoch 19: loss: 0.0133 - accuracy: 99.57% - val_loss: 0.7613 - val_accuracy: 86.42%\n",
      "No improvement. Patience: 9/20\n"
     ]
    },
    {
     "name": "stderr",
     "output_type": "stream",
     "text": [
      "Epoch 20/150: 100%|██████████| 184/184 [00:52<00:00,  3.48it/s, loss=0.0181, accuracy=99.44%]\n"
     ]
    },
    {
     "name": "stdout",
     "output_type": "stream",
     "text": [
      "Epoch 20: loss: 0.0181 - accuracy: 99.44% - val_loss: 0.7035 - val_accuracy: 85.97%\n",
      "No improvement. Patience: 10/20\n"
     ]
    },
    {
     "name": "stderr",
     "output_type": "stream",
     "text": [
      "Epoch 21/150: 100%|██████████| 184/184 [00:52<00:00,  3.48it/s, loss=0.0141, accuracy=99.51%]\n"
     ]
    },
    {
     "name": "stdout",
     "output_type": "stream",
     "text": [
      "Epoch 21: loss: 0.0141 - accuracy: 99.51% - val_loss: 0.7775 - val_accuracy: 86.82%\n",
      "No improvement. Patience: 11/20\n"
     ]
    },
    {
     "name": "stderr",
     "output_type": "stream",
     "text": [
      "Epoch 22/150: 100%|██████████| 184/184 [00:52<00:00,  3.48it/s, loss=0.0185, accuracy=99.40%]\n"
     ]
    },
    {
     "name": "stdout",
     "output_type": "stream",
     "text": [
      "Epoch 22: loss: 0.0185 - accuracy: 99.40% - val_loss: 0.7927 - val_accuracy: 86.42%\n",
      "No improvement. Patience: 12/20\n"
     ]
    },
    {
     "name": "stderr",
     "output_type": "stream",
     "text": [
      "Epoch 23/150: 100%|██████████| 184/184 [00:52<00:00,  3.48it/s, loss=0.0071, accuracy=99.79%]\n"
     ]
    },
    {
     "name": "stdout",
     "output_type": "stream",
     "text": [
      "Epoch 23: loss: 0.0071 - accuracy: 99.79% - val_loss: 0.7741 - val_accuracy: 87.17%\n",
      "No improvement. Patience: 13/20\n"
     ]
    },
    {
     "name": "stderr",
     "output_type": "stream",
     "text": [
      "Epoch 24/150: 100%|██████████| 184/184 [00:52<00:00,  3.48it/s, loss=0.0054, accuracy=99.82%]\n"
     ]
    },
    {
     "name": "stdout",
     "output_type": "stream",
     "text": [
      "Epoch 24: loss: 0.0054 - accuracy: 99.82% - val_loss: 0.7969 - val_accuracy: 87.22%\n",
      "No improvement. Patience: 14/20\n"
     ]
    },
    {
     "name": "stderr",
     "output_type": "stream",
     "text": [
      "Epoch 25/150: 100%|██████████| 184/184 [00:52<00:00,  3.48it/s, loss=0.0044, accuracy=99.85%]\n"
     ]
    },
    {
     "name": "stdout",
     "output_type": "stream",
     "text": [
      "Epoch 25: loss: 0.0044 - accuracy: 99.85% - val_loss: 0.8642 - val_accuracy: 87.17%\n",
      "No improvement. Patience: 15/20\n"
     ]
    },
    {
     "name": "stderr",
     "output_type": "stream",
     "text": [
      "Epoch 26/150: 100%|██████████| 184/184 [00:53<00:00,  3.46it/s, loss=0.0044, accuracy=99.88%]\n"
     ]
    },
    {
     "name": "stdout",
     "output_type": "stream",
     "text": [
      "Epoch 26: loss: 0.0044 - accuracy: 99.88% - val_loss: 0.7719 - val_accuracy: 87.12%\n",
      "No improvement. Patience: 16/20\n"
     ]
    },
    {
     "name": "stderr",
     "output_type": "stream",
     "text": [
      "Epoch 27/150: 100%|██████████| 184/184 [00:53<00:00,  3.46it/s, loss=0.0068, accuracy=99.77%]\n"
     ]
    },
    {
     "name": "stdout",
     "output_type": "stream",
     "text": [
      "Epoch 27: loss: 0.0068 - accuracy: 99.77% - val_loss: 0.8107 - val_accuracy: 86.72%\n",
      "No improvement. Patience: 17/20\n"
     ]
    },
    {
     "name": "stderr",
     "output_type": "stream",
     "text": [
      "Epoch 28/150: 100%|██████████| 184/184 [00:53<00:00,  3.44it/s, loss=0.0055, accuracy=99.83%]\n"
     ]
    },
    {
     "name": "stdout",
     "output_type": "stream",
     "text": [
      "Epoch 28: loss: 0.0055 - accuracy: 99.83% - val_loss: 0.7571 - val_accuracy: 87.22%\n",
      "No improvement. Patience: 18/20\n"
     ]
    },
    {
     "name": "stderr",
     "output_type": "stream",
     "text": [
      "Epoch 29/150: 100%|██████████| 184/184 [00:53<00:00,  3.43it/s, loss=0.0031, accuracy=99.90%]\n"
     ]
    },
    {
     "name": "stdout",
     "output_type": "stream",
     "text": [
      "Epoch 29: loss: 0.0031 - accuracy: 99.90% - val_loss: 0.7909 - val_accuracy: 88.07%\n",
      "No improvement. Patience: 19/20\n"
     ]
    },
    {
     "name": "stderr",
     "output_type": "stream",
     "text": [
      "Epoch 30/150: 100%|██████████| 184/184 [00:53<00:00,  3.46it/s, loss=0.0020, accuracy=99.94%]\n"
     ]
    },
    {
     "name": "stdout",
     "output_type": "stream",
     "text": [
      "Epoch 30: loss: 0.0020 - accuracy: 99.94% - val_loss: 0.8446 - val_accuracy: 87.27%\n",
      "No improvement. Patience: 20/20\n",
      "Early stopping triggered after 30 epochs\n",
      "Best model from epoch 10 loaded\n",
      "\n",
      "Test Results:\n",
      "Test Loss: 0.7874\n",
      "Test Accuracy: 88.07%\n"
     ]
    },
    {
     "data": {
      "image/png": "[encoded data removed]",
      "text/plain": [
       "<Figure size 1000x800 with 2 Axes>"
      ]
     },
     "metadata": {},
     "output_type": "display_data"
    },
    {
     "data": {
      "image/png": "[encoded data removed]",
      "text/plain": [
       "<Figure size 1000x600 with 1 Axes>"
      ]
     },
     "metadata": {},
     "output_type": "display_data"
    },
    {
     "name": "stdout",
     "output_type": "stream",
     "text": [
      "\n",
      "Classification Report:\n",
      "==================================================\n",
      "              precision    recall  f1-score   support\n",
      "\n",
      "       akiec       0.75      0.68      0.71        65\n",
      "         bcc       0.90      0.85      0.88       103\n",
      "         bkl       0.86      0.74      0.80       220\n",
      "          df       1.00      0.61      0.76        23\n",
      "         mel       0.73      0.61      0.66       223\n",
      "          nv       0.91      0.97      0.94      1341\n",
      "        vasc       0.92      0.79      0.85        28\n",
      "\n",
      "    accuracy                           0.88      2003\n",
      "   macro avg       0.86      0.75      0.80      2003\n",
      "weighted avg       0.88      0.88      0.88      2003\n",
      "\n",
      "==================================================\n"
     ]
    },
    {
     "data": {
      "image/png": "[encoded data removed]",
      "text/plain": [
       "<Figure size 1500x500 with 2 Axes>"
      ]
     },
     "metadata": {},
     "output_type": "display_data"
    },
    {
     "name": "stderr",
     "output_type": "stream",
     "text": [
      "2025/08/30 15:50:21 WARNING mlflow.models.model: `artifact_path` is deprecated. Please use `name` instead.\n",
      "2025/08/30 15:50:30 WARNING mlflow.utils.environment: Failed to resolve installed pip version. ``pip`` will be added to conda.yaml environment spec without a version specifier.\n",
      "\u001b[31m2025/08/30 15:50:30 WARNING mlflow.models.model: Model logged without a signature and input example. Please set `input_example` parameter when logging the model to auto infer the model signature.\u001b[0m\n"
     ]
    },
    {
     "name": "stdout",
     "output_type": "stream",
     "text": [
      "\n",
      "============================================================\n",
      "🎉 TRAINING COMPLETED SUCCESSFULLY! 🎉\n",
      "============================================================\n",
      "✅ Total epochs trained: 30\n",
      "✅ Best epoch: 10\n",
      "✅ Final test accuracy: 88.07%\n",
      "✅ Model saved to MLflow\n",
      "✅ All artifacts logged successfully\n",
      "============================================================\n",
      "Training and evaluation completed!\n",
      "🏃 View run ResNet at: http://localhost:5000/#/experiments/588572262053754225/runs/e3c45c30db01411f9b8c40aa82ec7f20\n",
      "🧪 View experiment at: http://localhost:5000/#/experiments/588572262053754225\n"
     ]
    }
   ],
   "source": [
    "train_losses, val_losses, train_accs, val_accs, test_loss, test_acc = train_cnn_model(\n",
    "    model, train_loader, val_loader, test_loader,\n",
    "    criterion, optimizer,\n",
    "    data_balancing=\"class-specific augmentation rates\",\n",
    "    scheduler=scheduler,\n",
    "    num_epochs=150, patience=20, image_size=224, data_augmentation=True,\n",
    "    notes=\"ResNet50-DA-SplitFirst-ClassAug-Scheduler-Drop0.1-L2\",\n",
    "    user_name=USER_NAME,\n",
    "    device=device,\n",
    "    label_names=label_names\n",
    ")"
   ]
  },
  {
   "cell_type": "markdown",
   "id": "54c31311-e7ec-467a-937e-66ef87ad1bb6",
   "metadata": {},
   "source": [
    "The model shows signs of overfitting, with training accuracy reaching ~99% while validation and test accuracy plateau around ~88%.\n",
    "Still, overall performance is strong, with recall above 60% for all classes.\n",
    "\n",
    "Although the relatively lower recall for melanoma is a concern given its clinical importance, this version provides a solid and reliable baseline.\n",
    "\n",
    "We will keep it as the best performance achieved so far and focus on improving future versions through stronger regularization, class balancing, and augmentation to enhance generalization, particularly for minority and critical classes."
   ]
  },
  {
   "cell_type": "markdown",
   "id": "c81b2645-ad9f-4734-b173-96165ef51779",
   "metadata": {},
   "source": [
    "## 💾 Save the Model  \n",
    "Store the trained model locally."
   ]
  },
  {
   "cell_type": "code",
   "execution_count": 13,
   "id": "ed02b9d4-f400-4916-9212-b49b2dfe57e4",
   "metadata": {},
   "outputs": [
    {
     "name": "stdout",
     "output_type": "stream",
     "text": [
      "/workspace/notebooks/HAM10000\n"
     ]
    }
   ],
   "source": [
    "!pwd"
   ]
  },
  {
   "cell_type": "code",
   "execution_count": 15,
   "id": "8f4a2a7c-be56-4046-96d1-a9b660c2f61d",
   "metadata": {},
   "outputs": [
    {
     "name": "stdout",
     "output_type": "stream",
     "text": [
      "✅ Full model saved - ready for Inference!\n"
     ]
    }
   ],
   "source": [
    "# Load the model with weights_only=False (since we trust our own model)\n",
    "model_path = \"/workspace/notebooks/mlflow_storage/mlartifacts/588572262053754225/models/m-973141f64c1143b6aa376552f0f5c0f9/artifacts/data/model.pth\"\n",
    "model = torch.load(model_path, weights_only=False)\n",
    "\n",
    "os.makedirs(\"/workspace/models/\", exist_ok=True)\n",
    "torch.save(model, \"/workspace/models/resnet50_v010.pth\")  # Save FULL model\n",
    "print(\"✅ Full model saved - ready for Inference!\")"
   ]
  },
  {
   "cell_type": "markdown",
   "id": "ec8b177e-c6ae-45ed-b761-651590a9f194",
   "metadata": {},
   "source": [
    "**Deploy the model to Hugging Face using an API token stored securely in your .env file.**"
   ]
  },
  {
   "cell_type": "code",
   "execution_count": 2,
   "id": "bdc82ab0-5c23-465d-9862-6b2f5cdd5065",
   "metadata": {},
   "outputs": [
    {
     "data": {
      "application/vnd.jupyter.widget-view+json": {
       "model_id": "f59b1a85599146a8a484b74a80b4fe65",
       "version_major": 2,
       "version_minor": 0
      },
      "text/plain": [
       "Processing Files (0 / 0)                : |          |  0.00B /  0.00B            "
      ]
     },
     "metadata": {},
     "output_type": "display_data"
    },
    {
     "data": {
      "application/vnd.jupyter.widget-view+json": {
       "model_id": "d1ce43211236494c882ba9746455e02b",
       "version_major": 2,
       "version_minor": 0
      },
      "text/plain": [
       "New Data Upload                         : |          |  0.00B /  0.00B            "
      ]
     },
     "metadata": {},
     "output_type": "display_data"
    },
    {
     "data": {
      "application/vnd.jupyter.widget-view+json": {
       "model_id": "5280cc5b2e2449d0b18e005c535e884f",
       "version_major": 2,
       "version_minor": 0
      },
      "text/plain": [
       "  /workspace/models/resnet50_v010.pth   :  27%|##6       | 25.1MB / 94.4MB            "
      ]
     },
     "metadata": {},
     "output_type": "display_data"
    },
    {
     "name": "stdout",
     "output_type": "stream",
     "text": [
      "✅ Repository created and model uploaded!\n"
     ]
    }
   ],
   "source": [
    "from huggingface_hub import HfApi, upload_file\n",
    "from dotenv import load_dotenv\n",
    "\n",
    "# Load environment variables\n",
    "load_dotenv()\n",
    "\n",
    "# Initialize API\n",
    "api = HfApi()\n",
    "\n",
    "# Create the repository first\n",
    "api.create_repo(\n",
    "    repo_id=\"lisekarimi/resnet50-ham10000\",\n",
    "    repo_type=\"model\",\n",
    "    token=os.getenv(\"HUGGINGFACE_HUB_TOKEN\")\n",
    ")\n",
    "\n",
    "# Now upload the file\n",
    "upload_file(\n",
    "    path_or_fileobj=\"/workspace/models/resnet50_v010.pth\",\n",
    "    path_in_repo=\"resnet50_v010.pth\",\n",
    "    repo_id=\"lisekarimi/resnet50-ham10000\",\n",
    "    repo_type=\"model\",\n",
    "    token=os.getenv(\"HUGGINGFACE_HUB_TOKEN\")\n",
    ")\n",
    "\n",
    "print(\"✅ Repository created and model uploaded!\")"
   ]
  }
 ],
 "metadata": {
  "kernelspec": {
   "display_name": "Python 3 (ipykernel)",
   "language": "python",
   "name": "python3"
  },
  "language_info": {
   "codemirror_mode": {
    "name": "ipython",
    "version": 3
   },
   "file_extension": ".py",
   "mimetype": "text/x-python",
   "name": "python",
   "nbconvert_exporter": "python",
   "pygments_lexer": "ipython3",
   "version": "3.12.3"
  }
 },
 "nbformat": 4,
 "nbformat_minor": 5
}
